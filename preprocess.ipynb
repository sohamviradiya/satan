{
 "cells": [
  {
   "cell_type": "code",
   "execution_count": 4,
   "metadata": {},
   "outputs": [],
   "source": [
    "import ta\n",
    "import pandas as pd\n",
    "import numpy as np\n",
    "import os \n",
    "import yfinance as yf\n",
    "\n",
    "benchmark_data = pd.read_csv('./data/djia.csv')\n",
    "\n",
    "for i in [1,3,5,10,50,100]:\n",
    "    benchmark_data['Return_'+str(i)+'d'] = np.log(benchmark_data['close']/benchmark_data['close'].shift(i))\n",
    "benchmark_data.dropna(inplace=True)\n",
    "\n",
    "for file in os.listdir('./data/raw'):\n",
    "    if not file.endswith('.csv'):\n",
    "        continue\n",
    "    data = pd.read_csv('./data/raw/'+file)\n",
    "    \n",
    "    \n",
    "    \n",
    "    for i in [1,3,5,10,50,100]:\n",
    "        data['Return_'+str(i)+'d'] = np.log(data['close']/data['close'].shift(i))\n",
    "        \n",
    "    data = data.merge(benchmark_data[['date','Return_1d','Return_3d','Return_5d','Return_10d','Return_50d','Return_100d']],on='date',how='left',suffixes=('_stock','_benchmark'))\n",
    "        \n",
    "    for i in [1,3,5,10,50,100]:\n",
    "        data['Return_'+str(i)+'d_Correlation'] = data['Return_'+str(i)+'d_stock'].rolling(100).corr(data['Return_'+str(i)+'d_benchmark'])\n",
    "        \n",
    "    data['ADX'] = ta.trend.adx(high=data['high'],low=data['low'],close=data['close'])\n",
    "    data['Aroon_Up'] = ta.trend.aroon_up(high=data['high'],low=data['low'])\n",
    "    data['Aroon_Down'] = ta.trend.aroon_down(high=data['high'],low=data['low'])\n",
    "    data['CCI'] = ta.trend.cci(high=data['high'],low=data['low'],close=data['close'])\n",
    "    data['EMA'] = ta.trend.ema_indicator(close=data['close'])\n",
    "    data['KAMA'] = ta.momentum.kama(close=data['close'])\n",
    "    data['ROC'] = ta.momentum.roc(close=data['close'])\n",
    "    data['RSI'] = ta.momentum.rsi(close=data['close'])\n",
    "    data['CMF'] = ta.volume.chaikin_money_flow(high=data['high'],low=data['low'],close=data['close'],volume=data['volume'])\n",
    "    data['ADI'] = ta.volume.acc_dist_index(high=data['high'],low=data['low'],close=data['close'],volume=data['volume'])\n",
    "    data['FI'] = ta.volume.force_index(close=data['close'],volume=data['volume'])\n",
    "    data['Bollinger_high'] = ta.volatility.bollinger_hband(close=data['close'])\n",
    "    data['Bollinger_low'] = ta.volatility.bollinger_lband(close=data['close'])\n",
    "    data['Donchian_low'] = ta.volatility.donchian_channel_lband(high=data['high'],low=data['low'],close=data['close'])\n",
    "    data['Donchian_high'] = ta.volatility.donchian_channel_hband(high=data['high'],low=data['low'],close=data['close'])\n",
    "    data.dropna(inplace=True)\n",
    "    data = data.round(4)\n",
    "    data.to_csv('./data/processed/'+file,index=False)"
   ]
  },
  {
   "cell_type": "code",
   "execution_count": null,
   "metadata": {},
   "outputs": [],
   "source": []
  }
 ],
 "metadata": {
  "kernelspec": {
   "display_name": ".venv",
   "language": "python",
   "name": "python3"
  },
  "language_info": {
   "codemirror_mode": {
    "name": "ipython",
    "version": 3
   },
   "file_extension": ".py",
   "mimetype": "text/x-python",
   "name": "python",
   "nbconvert_exporter": "python",
   "pygments_lexer": "ipython3",
   "version": "3.11.0"
  }
 },
 "nbformat": 4,
 "nbformat_minor": 2
}
