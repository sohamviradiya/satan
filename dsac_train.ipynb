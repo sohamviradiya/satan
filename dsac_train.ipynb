{
 "cells": [
  {
   "cell_type": "code",
   "execution_count": 1,
   "metadata": {},
   "outputs": [],
   "source": [
    "tickers = ['AAPL','JPM','F','PG', 'BA']\n",
    "\n",
    "investment_period = 1 # each 1 investment days \n",
    "reward_period = 15 # each 15 investment periods\n",
    "risk_aversions = [0,0.25,0.5,0.75,1]\n",
    "discount = 0.9\n",
    "\n",
    "from enviroments.max_gain import create_env_max_gain \n",
    "max_gain_envs = [create_env_max_gain(tickers,'1992-01-01','2022-12-31',investment_period,reward_period,risk_aversion)[0] for risk_aversion in risk_aversions]\n",
    "\n",
    "from enviroments.benchmark import create_env_benchmark\n",
    "benchmark_envs = [create_env_benchmark(tickers,'1992-01-01','2022-12-31',investment_period,reward_period,'./data/djia.csv',risk_aversion)[0] for risk_aversion in risk_aversions]\n",
    "envs = max_gain_envs + benchmark_envs"
   ]
  },
  {
   "cell_type": "code",
   "execution_count": 2,
   "metadata": {},
   "outputs": [
    {
     "name": "stdout",
     "output_type": "stream",
     "text": [
      "Using cpu device\n",
      "Using cpu device\n",
      "Using cpu device\n",
      "Using cpu device\n",
      "Using cpu device\n",
      "Using cpu device\n",
      "Using cpu device\n",
      "Using cpu device\n",
      "Using cpu device\n",
      "Using cpu device\n"
     ]
    },
    {
     "name": "stderr",
     "output_type": "stream",
     "text": [
      "d:\\.war\\satan\\.venv\\Lib\\site-packages\\stable_baselines3\\common\\buffers.py:241: UserWarning: This system does not have apparently enough memory to store the complete replay buffer 1.15GB > 1.03GB\n",
      "  warnings.warn(\n"
     ]
    }
   ],
   "source": [
    "from DSAC import DSAC\n",
    "\n",
    "for idx,env in enumerate(envs):\n",
    "    model = DSAC(policy='MlpPolicy', env=env,verbose=1,learning_rate=0.001,gamma=discount)\n",
    "    model.learn(total_timesteps=25000)\n",
    "    type = 'max_gain' if env in max_gain_envs else 'benchmark'\n",
    "    risk_aversion = risk_aversions[idx%len(risk_aversions)]\n",
    "    save_file_name = model.__class__.__name__ + f'_{type}_risk_{risk_aversion}_inv_{investment_period}_rew_{reward_period}.zip'\n",
    "    model.save(f\"./models/{save_file_name}\")\n",
    "    del model"
   ]
  }
 ],
 "metadata": {
  "kernelspec": {
   "display_name": ".venv",
   "language": "python",
   "name": "python3"
  },
  "language_info": {
   "codemirror_mode": {
    "name": "ipython",
    "version": 3
   },
   "file_extension": ".py",
   "mimetype": "text/x-python",
   "name": "python",
   "nbconvert_exporter": "python",
   "pygments_lexer": "ipython3",
   "version": "3.11.0"
  }
 },
 "nbformat": 4,
 "nbformat_minor": 2
}
