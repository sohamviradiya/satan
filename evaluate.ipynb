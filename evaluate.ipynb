{
 "cells": [
  {
   "cell_type": "code",
   "execution_count": 8,
   "metadata": {},
   "outputs": [],
   "source": [
    "import matplotlib.pyplot as plt\n",
    "import numpy as np\n",
    "\n",
    "tickers = ['AAPL','JPM','F','PG', 'BA']\n",
    "\n",
    "investment_period = 1 # each 1 investment days \n",
    "reward_period = 15 # each 15 investment periods\n",
    "\n",
    "def evaluate_model(model,env):\n",
    "    done = False\n",
    "    rewards = []\n",
    "    portfolio_worths = []\n",
    "    obs = env.reset()\n",
    "    portfolio_worths.append(1.0)\n",
    "    while not done:\n",
    "        action, _states = model.predict(obs)\n",
    "        obs, reward, done,info = env.step(action)\n",
    "        portfolio_worths.append(info[0]['porfolio_worth'])\n",
    "        rewards.append(reward)\n",
    "    return np.array(rewards),np.array(portfolio_worths)"
   ]
  },
  {
   "cell_type": "code",
   "execution_count": null,
   "metadata": {},
   "outputs": [
    {
     "name": "stderr",
     "output_type": "stream",
     "text": [
      "d:\\.war\\satan\\.venv\\Lib\\site-packages\\stable_baselines3\\common\\env_checker.py:453: UserWarning: We recommend you to use a symmetric and normalized Box action space (range=[-1, 1]) cf. https://stable-baselines3.readthedocs.io/en/master/guide/rl_tips.html\n",
      "  warnings.warn(\n"
     ]
    }
   ],
   "source": [
    "from stable_baselines3 import PPO,SAC,DDPG\n",
    "from enviroment import create_env\n",
    "\n",
    "eval_env,eval_dates,eval_benchmark,prices = create_env(tickers,'2019-01-01','2024-12-31',investment_period,reward_period,risk_aversion=0.5)\n",
    "\n",
    "# read models from files at './models'\n",
    "models = [\n",
    "    'SAC_risk_0_inv_1_rew_15',\n",
    "    'SAC_risk_0.25_inv_1_rew_15',\n",
    "    'SAC_risk_0.5_inv_1_rew_15',\n",
    "    'SAC_risk_0.75_inv_1_rew_15',\n",
    "    'SAC_risk_1_inv_1_rew_15',\n",
    "    'PPO_risk_0_inv_1_rew_15',\n",
    "    'PPO_risk_0.25_inv_1_rew_15',\n",
    "    'PPO_risk_0.5_inv_1_rew_15',\n",
    "    'PPO_risk_0.75_inv_1_rew_15',\n",
    "    'PPO_risk_1_inv_1_rew_15',\n",
    "    'DDPG_risk_0_inv_1_rew_15',\n",
    "    'DDPG_risk_0.25_inv_1_rew_15',\n",
    "    'DDPG_risk_0.5_inv_1_rew_15',\n",
    "    'DDPG_risk_0.75_inv_1_rew_15',\n",
    "    'DDPG_risk_1_inv_1_rew_15'\n",
    "]\n",
    "\n",
    "plt.figure(figsize=(15,10))\n",
    "for idx,model_name in enumerate(models):\n",
    "    model_path = f'././models/{model_name}.zip'\n",
    "    if 'SAC' in model_name:\n",
    "        model = SAC.load(model_path)\n",
    "    elif 'PPO' in model_name:\n",
    "        model = PPO.load(model_path)\n",
    "    elif 'DDPG' in model_name:\n",
    "        model = DDPG.load(model_path)\n",
    "    rewards,portfolio_worths = evaluate_model(model,eval_env)\n",
    "    plt.plot(eval_dates,portfolio_worths, linestyle='-',label=f'{model_name}')\n",
    "\n",
    "eval_benchmark_relative = eval_benchmark/eval_benchmark[0]\n",
    "plt.plot(eval_dates,eval_benchmark_relative,linestyle='-',label='Benchmark', color='black')\n",
    "\n",
    "relative_prices = [timeline/timeline[0] for timeline in prices]\n",
    "equal_weights_portfolio_worths = np.mean(relative_prices,axis=0)\n",
    "\n",
    "plt.plot(eval_dates,equal_weights_portfolio_worths,linestyle='-',label='Equal Weights Portfolio')\n",
    "\n",
    "plt.xticks(eval_dates[::63],rotation=45)\n",
    "plt.ylim(0,7)\n",
    "plt.legend()"
   ]
  }
 ],
 "metadata": {
  "kernelspec": {
   "display_name": ".venv",
   "language": "python",
   "name": "python3"
  },
  "language_info": {
   "codemirror_mode": {
    "name": "ipython",
    "version": 3
   },
   "file_extension": ".py",
   "mimetype": "text/x-python",
   "name": "python",
   "nbconvert_exporter": "python",
   "pygments_lexer": "ipython3",
   "version": "3.11.0"
  }
 },
 "nbformat": 4,
 "nbformat_minor": 2
}
