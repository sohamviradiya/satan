{
 "cells": [
  {
   "cell_type": "code",
   "execution_count": 1,
   "metadata": {},
   "outputs": [],
   "source": [
    "tickers = ['AAPL','JPM','F','PG', 'BA']\n",
    "\n",
    "investment_period = 1 # each 1 investment days \n",
    "reward_period = 15 # each 15 investment periods\n",
    "risk_aversions = [0,0.25,0.5,0.75,1]"
   ]
  },
  {
   "cell_type": "code",
   "execution_count": 2,
   "metadata": {},
   "outputs": [],
   "source": [
    "from enviroment import create_env\n",
    "envs = [create_env(tickers,'1992-01-01','2018-18-31',investment_period,reward_period,risk_aversion)[0] for risk_aversion in risk_aversions]"
   ]
  },
  {
   "cell_type": "code",
   "execution_count": 3,
   "metadata": {},
   "outputs": [
    {
     "name": "stdout",
     "output_type": "stream",
     "text": [
      "Using cpu device\n",
      "Using cpu device\n",
      "Using cpu device\n",
      "Using cpu device\n",
      "Using cpu device\n",
      "Using cpu device\n",
      "Using cpu device\n",
      "Using cpu device\n",
      "Using cpu device\n",
      "Using cpu device\n",
      "Using cpu device\n"
     ]
    },
    {
     "name": "stderr",
     "output_type": "stream",
     "text": [
      "d:\\.war\\satan\\.venv\\Lib\\site-packages\\stable_baselines3\\common\\buffers.py:241: UserWarning: This system does not have apparently enough memory to store the complete replay buffer 1.15GB > 0.87GB\n",
      "  warnings.warn(\n",
      "d:\\.war\\satan\\.venv\\Lib\\site-packages\\stable_baselines3\\common\\buffers.py:241: UserWarning: This system does not have apparently enough memory to store the complete replay buffer 1.15GB > 0.86GB\n",
      "  warnings.warn(\n",
      "d:\\.war\\satan\\.venv\\Lib\\site-packages\\stable_baselines3\\common\\buffers.py:241: UserWarning: This system does not have apparently enough memory to store the complete replay buffer 1.15GB > 0.85GB\n",
      "  warnings.warn(\n"
     ]
    },
    {
     "name": "stdout",
     "output_type": "stream",
     "text": [
      "Using cpu device\n",
      "Using cpu device\n"
     ]
    },
    {
     "name": "stderr",
     "output_type": "stream",
     "text": [
      "d:\\.war\\satan\\.venv\\Lib\\site-packages\\stable_baselines3\\common\\buffers.py:241: UserWarning: This system does not have apparently enough memory to store the complete replay buffer 1.15GB > 0.84GB\n",
      "  warnings.warn(\n",
      "d:\\.war\\satan\\.venv\\Lib\\site-packages\\stable_baselines3\\common\\buffers.py:241: UserWarning: This system does not have apparently enough memory to store the complete replay buffer 1.15GB > 0.82GB\n",
      "  warnings.warn(\n"
     ]
    },
    {
     "name": "stdout",
     "output_type": "stream",
     "text": [
      "Using cpu device\n",
      "Using cpu device\n"
     ]
    }
   ],
   "source": [
    "from stable_baselines3 import  PPO, SAC, DDPG\n",
    "from stable_baselines3.common.base_class import BaseAlgorithm\n",
    "learning_rate=0.001\n",
    "\n",
    "algorithms = {\n",
    "    \"PPO\" : PPO,\n",
    "    \"SAC\" : SAC,\n",
    "    \"DDPG\" : DDPG\n",
    "}\n",
    "\n",
    "models:list[BaseAlgorithm] = []\n",
    "\n",
    "for algorithm in algorithms:\n",
    "    for env in envs:\n",
    "        model = algorithms[algorithm](policy='MlpPolicy', env=env, verbose=1, learning_rate=learning_rate)\n",
    "        models.append(model)"
   ]
  },
  {
   "cell_type": "code",
   "execution_count": null,
   "metadata": {},
   "outputs": [],
   "source": [
    "for idx,model in enumerate(models):\n",
    "    model.learn(total_timesteps=20000,log_interval=1000)\n",
    "    risk_aversion = risk_aversions[idx%len(risk_aversions)]\n",
    "    save_file_name = model.__class__.__name__ + f'_risk_{risk_aversion}_inv_{investment_period}_rew_{reward_period}.zip'\n",
    "    model.save(f'./models/{save_file_name}')"
   ]
  }
 ],
 "metadata": {
  "kernelspec": {
   "display_name": ".venv",
   "language": "python",
   "name": "python3"
  },
  "language_info": {
   "codemirror_mode": {
    "name": "ipython",
    "version": 3
   },
   "file_extension": ".py",
   "mimetype": "text/x-python",
   "name": "python",
   "nbconvert_exporter": "python",
   "pygments_lexer": "ipython3",
   "version": "3.11.0"
  }
 },
 "nbformat": 4,
 "nbformat_minor": 2
}
